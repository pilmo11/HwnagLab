{
 "cells": [
  {
   "cell_type": "code",
   "execution_count": null,
   "metadata": {},
   "outputs": [],
   "source": []
  },
  {
   "cell_type": "code",
   "execution_count": 4,
   "metadata": {},
   "outputs": [],
   "source": [
    "import turtle as t\n",
    "\n",
    "n = int (input ()) # 다각형그리기\n",
    "\n",
    "t.shape ('turtle')\n",
    "for i in range (n):\n",
    "    t.fd (100)\n",
    "    t.rt (360/n)"
   ]
  },
  {
   "cell_type": "code",
   "execution_count": 5,
   "metadata": {},
   "outputs": [
    {
     "ename": "",
     "evalue": "",
     "output_type": "error",
     "traceback": [
      "\u001b[1;31m현재 셀 또는 이전 셀에서 코드를 실행하는 동안 Kernel이 충돌했습니다. 셀의 코드를 검토하여 오류의 가능한 원인을 식별하세요. 자세한 내용을 보려면 <a href='https://aka.ms/vscodeJupyterKernelCrash'> 여기 </a> 를 클릭하세요. 자세한 내용은 Jupyter <a href='command:jupyter.viewOutput'>로그</a>를 참조하세요."
     ]
    }
   ],
   "source": [
    "import turtle as t\n",
    "\n",
    "n = 6\n",
    "\n",
    "t.shape ('turtle')\n",
    "t.color ('red')  #펜의 색\n",
    "t.begin_fill()  #색칠할 영역 시작\n",
    "for i in range (n):\n",
    "    t.fd (100)\n",
    "    t.rt (360/n)\n",
    "t.end_fill () #색칠할 영역 끝"
   ]
  },
  {
   "cell_type": "code",
   "execution_count": 4,
   "metadata": {},
   "outputs": [],
   "source": [
    "import turtle as t\n",
    "\n",
    "n = 6\n",
    "\n",
    "t.shape ('turtle')\n",
    "t.color ('#0000FF')  #펜의 색, 웹 색상은 #으로 시작하며 빨강(R), 초록(G), 파랑(B)에 해당하는 \n",
    "                 # 두 자리 16진수 세 쌍으로 구성되어 있음. # 16진수표현할때에는 앞에 # 표시\n",
    "                 # 색상의 범위는 00부터 FF까지 사용할 수 있으며 빨강, 초록, 파랑을 조합해서 색상을 만듬.\n",
    "t.begin_fill()  #색칠할 영역 시작\n",
    "for i in range (n):\n",
    "    t.fd (100)\n",
    "    t.rt (360/n)\n",
    "t.end_fill () #색칠할 영역 끝"
   ]
  },
  {
   "cell_type": "code",
   "execution_count": 5,
   "metadata": {},
   "outputs": [],
   "source": [
    "import turtle as t\n",
    "\n",
    "n=60  #원으로 복잡한 그림 그리기\n",
    "\n",
    "for i in range (n):\n",
    "    t.circle (120)  #반지름\n",
    "    t.speed ('fastest')  #숫자로 표기 가능, 0 -10까지, 0이가장 빠름\n",
    "    t.right (360/n)\n",
    "    \n",
    "      "
   ]
  },
  {
   "cell_type": "code",
   "execution_count": 1,
   "metadata": {},
   "outputs": [
    {
     "ename": "",
     "evalue": "",
     "output_type": "error",
     "traceback": [
      "\u001b[1;31m현재 셀 또는 이전 셀에서 코드를 실행하는 동안 Kernel이 충돌했습니다. 셀의 코드를 검토하여 오류의 가능한 원인을 식별하세요. 자세한 내용을 보려면 <a href='https://aka.ms/vscodeJupyterKernelCrash'> 여기 </a> 를 클릭하세요. 자세한 내용은 Jupyter <a href='command:jupyter.viewOutput'>로그</a>를 참조하세요."
     ]
    }
   ],
   "source": [
    "import turtle as t\n",
    "t.shape ('turtle')\n",
    "t.speed ('fastest')\n",
    "for i in range (400):\n",
    "    t.forward (i)\n",
    "    t.right (91)"
   ]
  },
  {
   "cell_type": "code",
   "execution_count": 1,
   "metadata": {},
   "outputs": [],
   "source": [
    "import turtle as t  #별 그리기\n",
    "t.shape ('turtle')\n",
    "\n",
    "n=5\n",
    "\n",
    "for i in range (n):\n",
    "    t.forward (100)\n",
    "    t.right ((360/n)*2)\n",
    "    t.forward (100)\n",
    "    t.left (360/n)"
   ]
  }
 ],
 "metadata": {
  "kernelspec": {
   "display_name": "Python 3.9.7 ('base')",
   "language": "python",
   "name": "python3"
  },
  "language_info": {
   "codemirror_mode": {
    "name": "ipython",
    "version": 3
   },
   "file_extension": ".py",
   "mimetype": "text/x-python",
   "name": "python",
   "nbconvert_exporter": "python",
   "pygments_lexer": "ipython3",
   "version": "3.9.7"
  },
  "orig_nbformat": 4,
  "vscode": {
   "interpreter": {
    "hash": "85d363613b88db4561a8802f88759f3d08c33dee40de7843b3bc380838595e3a"
   }
  }
 },
 "nbformat": 4,
 "nbformat_minor": 2
}
